{
  "nbformat": 4,
  "nbformat_minor": 0,
  "metadata": {
    "colab": {
      "name": "max_team_productivity.ipynb",
      "provenance": [],
      "collapsed_sections": [],
      "authorship_tag": "ABX9TyM/uhmoYa1+V7f6CO3FjLgH",
      "include_colab_link": true
    },
    "kernelspec": {
      "name": "python3",
      "display_name": "Python 3"
    }
  },
  "cells": [
    {
      "cell_type": "markdown",
      "metadata": {
        "id": "view-in-github",
        "colab_type": "text"
      },
      "source": [
        "<a href=\"https://colab.research.google.com/github/philipplozovoy/covid19_max_team_productivity/blob/master/max_team_productivity.ipynb\" target=\"_parent\"><img src=\"https://colab.research.google.com/assets/colab-badge.svg\" alt=\"Open In Colab\"/></a>"
      ]
    },
    {
      "cell_type": "code",
      "metadata": {
        "id": "uZZ644DyRa0G",
        "colab_type": "code",
        "colab": {}
      },
      "source": [
        "import numpy as np\n",
        "import matplotlib.pyplot as plt"
      ],
      "execution_count": 0,
      "outputs": []
    },
    {
      "cell_type": "code",
      "metadata": {
        "id": "1a0v6HlPRmBK",
        "colab_type": "code",
        "colab": {}
      },
      "source": [
        "# Assumptions\n",
        "# 1) carantine period - april and may \n",
        "working_weeks = 8\n",
        "working_days = working_weeks*5\n",
        "# sick days equal to 2 working weeks\n",
        "sick_days = 10\n",
        "# 2) work at home is less productive than work at office\n",
        "# coefficients from personal history\n",
        "work_at_home_coef = 0.75\n",
        "work_at_office_coef = 1\n",
        "# for some reasons our team can only do most of the work from the office\n",
        "# so we need penalty for zero days at office\n",
        "penalty_no_office = 0.8\n",
        "# 3) one team member utilize 0.6 SP per one working day at office\n",
        "# jira history\n",
        "sp_per_day = 0.6\n",
        "# 4) possibility to become sick is 4%\n",
        "# 14000 test in Moscow https://www.mos.ru/news/item/72148073/\n",
        "# 500 cases in Moscow https://yandex.ru/search/?text=%D0%BA%D0%BE%D1%80%D0%BE%D0%BD%D0%B0%D0%B2%D0%B8%D1%80%D1%83%D1%81&query_source=share&type=covid19&lr=213\n",
        "# 500/14000 is about 4%\n",
        "possibility_sick = 0.04\n",
        "# 5) possibility to death when sick is 4%\n",
        "# possibility of death is about 4% https://www.rbc.ru/rbcfreenews/5e5e9fc19a79474e88d1a5db\n",
        "possibility_death = 0.04"
      ],
      "execution_count": 0,
      "outputs": []
    },
    {
      "cell_type": "code",
      "metadata": {
        "id": "1-3M5vL0RoSq",
        "colab_type": "code",
        "colab": {}
      },
      "source": [
        "def possible_days_to_get_sick():\n",
        "    return np.random.random(size=working_days) <= possibility_sick\n",
        "\n",
        "def working_days_units(days):\n",
        "    \"\"\"Calculate working days units - estimation of real working time\n",
        "    :param days: an array of working days where 1 - at office, 0 - at home\n",
        "    :type days: array\n",
        "    :return: number of working days units\n",
        "    \"\"\"\n",
        "    working_days_office = np.sum(days) \n",
        "    working_days_home = len(days) - working_days_office\n",
        "    return working_days_office*work_at_office_coef + working_days_home*work_at_home_coef\n",
        "\n",
        "def calc_results(tm_office):\n",
        "    \"\"\"Calculate working days when a team member is healthy, sick and dead\n",
        "    :param tm_office: an array of days when a team member go to office\n",
        "    :type tm_office: array\n",
        "    :return: number of healthy working days\n",
        "    \"\"\"\n",
        "    array_of_sick = tm_office * possible_days_to_get_sick()\n",
        "    sick = np.where(np.sum(array_of_sick) > 0, 1, 0)\n",
        "    death = (sick * np.random.random()) >= (1 - possibility_death)\n",
        "    if np.sum(array_of_sick) == 0:\n",
        "        wd_real = working_days_units(tm_office)\n",
        "    else:\n",
        "        wd_before_sick = np.min(np.where(array_of_sick == 1)) + 1\n",
        "        if death:\n",
        "            wd_real = working_days_units(tm_office[:wd_before_sick])\n",
        "        elif wd_before_sick + sick_days >= working_days:\n",
        "            wd_real = working_days_units(tm_office[:wd_before_sick])\n",
        "        else: \n",
        "            wd_real = working_days_units(tm_office[:wd_before_sick]) \\\n",
        "            + working_days_units(tm_office[wd_before_sick+sick_days:])\n",
        "    return wd_real, sick, death\n",
        "\n",
        "n_simulations = 100000\n",
        "bs_sp_done = np.empty(n_simulations)\n",
        "bs_sick = np.empty(n_simulations)\n",
        "bs_death = np.empty(n_simulations)\n",
        "\n",
        "def draw_bs_stats():\n",
        "  \"\"\"Draw bootstrap stats from tm_office_i\"\"\"\n",
        "  for i in range(n_simulations):\n",
        "    wdu_1, sick_1, death_1 = calc_results(tm_office_1)\n",
        "    wdu_2, sick_2, death_2 = calc_results(tm_office_2)\n",
        "    wdu_3, sick_3, death_3 = calc_results(tm_office_3)\n",
        "    wdu_4, sick_4, death_4 = calc_results(tm_office_4)\n",
        "    wdu_5, sick_5, death_5 = calc_results(tm_office_5)\n",
        "\n",
        "    bs_sp_done[i] = (wdu_1 + wdu_2 + wdu_3 + wdu_4 + wdu_5) * sp_per_day\n",
        "    bs_sick[i] = sick_1 + sick_2 + sick_3 + sick_4 + sick_5\n",
        "    bs_death[i] = death_1 + death_2 + death_3 + death_4 + death_5\n",
        "  return bs_sp_done, bs_sick, bs_death  \n"
      ],
      "execution_count": 0,
      "outputs": []
    },
    {
      "cell_type": "code",
      "metadata": {
        "id": "VNeuPCvSYum9",
        "colab_type": "code",
        "colab": {}
      },
      "source": [
        "# Case 1 - zero days at office \n",
        "tm_office_1 = np.tile(np.array([0, 0, 0, 0, 0]),working_weeks)\n",
        "tm_office_2 = np.tile(np.array([0, 0, 0, 0, 0]),working_weeks)\n",
        "tm_office_3 = np.tile(np.array([0, 0, 0, 0, 0]),working_weeks)\n",
        "tm_office_4 = np.tile(np.array([0, 0, 0, 0, 0]),working_weeks)\n",
        "tm_office_5 = np.tile(np.array([0, 0, 0, 0, 0]),working_weeks)\n",
        "\n",
        "bs_sp_done, bs_sick, bs_death = draw_bs_stats()\n",
        "\n",
        "mean_sp_office = [np.mean(bs_sp_done)*(1-penalty_no_office)]\n",
        "mean_sick_office = [np.mean(bs_sick)]\n",
        "mean_no_sick_office = [np.mean(np.where(bs_sick > 0, 0, 1))]\n",
        "mean_death_office = [np.mean(bs_death)]"
      ],
      "execution_count": 0,
      "outputs": []
    },
    {
      "cell_type": "code",
      "metadata": {
        "id": "g3xFsX0ORwT9",
        "colab_type": "code",
        "colab": {}
      },
      "source": [
        "# Case 2 - 1 day at office\n",
        "tm_office_1 = np.tile(np.array([1, 0, 0, 0, 0]),working_weeks)\n",
        "tm_office_2 = np.tile(np.array([0, 1, 0, 0, 0]),working_weeks)\n",
        "tm_office_3 = np.tile(np.array([0, 0, 1, 0, 0]),working_weeks)\n",
        "tm_office_4 = np.tile(np.array([0, 0, 0, 1, 0]),working_weeks)\n",
        "tm_office_5 = np.tile(np.array([0, 0, 0, 0, 1]),working_weeks)\n",
        "\n",
        "bs_sp_done, bs_sick, bs_death = draw_bs_stats()\n",
        "  \n",
        "mean_sp_office.append(np.mean(bs_sp_done))\n",
        "mean_sick_office.append(np.mean(bs_sick))\n",
        "mean_no_sick_office.append(np.mean(np.where(bs_sick > 0, 0, 1)))\n",
        "mean_death_office.append(np.mean(bs_death))"
      ],
      "execution_count": 0,
      "outputs": []
    },
    {
      "cell_type": "code",
      "metadata": {
        "id": "wcAAaGs6SF7n",
        "colab_type": "code",
        "colab": {}
      },
      "source": [
        "# Case 3 - 2 day at office\n",
        "tm_office_1 = np.tile(np.array([1, 1, 0, 0, 0]),working_weeks)\n",
        "tm_office_2 = np.tile(np.array([0, 1, 1, 0, 0]),working_weeks)\n",
        "tm_office_3 = np.tile(np.array([0, 0, 1, 1, 0]),working_weeks)\n",
        "tm_office_4 = np.tile(np.array([0, 0, 0, 1, 1]),working_weeks)\n",
        "tm_office_5 = np.tile(np.array([0, 0, 0, 1, 1]),working_weeks)\n",
        "\n",
        "bs_sp_done, bs_sick, bs_death = draw_bs_stats()\n",
        "\n",
        "mean_sp_office.append(np.mean(bs_sp_done))\n",
        "mean_sick_office.append(np.mean(bs_sick))\n",
        "mean_no_sick_office.append(np.mean(np.where(bs_sick > 0, 0, 1)))\n",
        "mean_death_office.append(np.mean(bs_death))"
      ],
      "execution_count": 0,
      "outputs": []
    },
    {
      "cell_type": "code",
      "metadata": {
        "id": "attEza6RSXcy",
        "colab_type": "code",
        "colab": {}
      },
      "source": [
        "# Case 4 - 3 day at office\n",
        "tm_office_1 = np.tile(np.array([1, 1, 1, 0, 0]),working_weeks)\n",
        "tm_office_2 = np.tile(np.array([0, 1, 1, 1, 0]),working_weeks)\n",
        "tm_office_3 = np.tile(np.array([0, 0, 1, 1, 1]),working_weeks)\n",
        "tm_office_4 = np.tile(np.array([0, 0, 1, 1, 1]),working_weeks)\n",
        "tm_office_5 = np.tile(np.array([0, 0, 1, 1, 1]),working_weeks)\n",
        "\n",
        "bs_sp_done, bs_sick, bs_death = draw_bs_stats()\n",
        "\n",
        "mean_sp_office.append(np.mean(bs_sp_done))\n",
        "mean_sick_office.append(np.mean(bs_sick))\n",
        "mean_no_sick_office.append(np.mean(np.where(bs_sick > 0, 0, 1)))\n",
        "mean_death_office.append(np.mean(bs_death))"
      ],
      "execution_count": 0,
      "outputs": []
    },
    {
      "cell_type": "code",
      "metadata": {
        "id": "5Wj6lG5uTrqv",
        "colab_type": "code",
        "colab": {}
      },
      "source": [
        "# Case 5 - 4 day at office\n",
        "tm_office_1 = np.tile(np.array([1, 1, 1, 1, 0]),working_weeks)\n",
        "tm_office_2 = np.tile(np.array([0, 1, 1, 1, 1]),working_weeks)\n",
        "tm_office_3 = np.tile(np.array([0, 1, 1, 1, 1]),working_weeks)\n",
        "tm_office_4 = np.tile(np.array([1, 0, 1, 1, 1]),working_weeks)\n",
        "tm_office_5 = np.tile(np.array([1, 0, 1, 1, 1]),working_weeks)\n",
        "\n",
        "bs_sp_done, bs_sick, bs_death = draw_bs_stats()\n",
        "\n",
        "mean_sp_office.append(np.mean(bs_sp_done))\n",
        "mean_sick_office.append(np.mean(bs_sick))\n",
        "mean_no_sick_office.append(np.mean(np.where(bs_sick > 0, 0, 1)))\n",
        "mean_death_office.append(np.mean(bs_death))"
      ],
      "execution_count": 0,
      "outputs": []
    },
    {
      "cell_type": "code",
      "metadata": {
        "id": "hdWq9ooAT10T",
        "colab_type": "code",
        "colab": {}
      },
      "source": [
        "# Case 6 - 5 day at office\n",
        "tm_office_1 = np.tile(np.array([1, 1, 1, 1, 1]),working_weeks)\n",
        "tm_office_2 = np.tile(np.array([1, 1, 1, 1, 1]),working_weeks)\n",
        "tm_office_3 = np.tile(np.array([1, 1, 1, 1, 1]),working_weeks)\n",
        "tm_office_4 = np.tile(np.array([1, 1, 1, 1, 1]),working_weeks)\n",
        "tm_office_5 = np.tile(np.array([1, 1, 1, 1, 1]),working_weeks)\n",
        "\n",
        "bs_sp_done, bs_sick, bs_death = draw_bs_stats()\n",
        "\n",
        "mean_sp_office.append(np.mean(bs_sp_done))\n",
        "mean_sick_office.append(np.mean(bs_sick))\n",
        "mean_no_sick_office.append(np.mean(np.where(bs_sick > 0, 0, 1)))\n",
        "mean_death_office.append(np.mean(bs_death))"
      ],
      "execution_count": 0,
      "outputs": []
    },
    {
      "cell_type": "code",
      "metadata": {
        "id": "zf9RaLrBUgAL",
        "colab_type": "code",
        "outputId": "96504dff-8372-4e87-ee6c-495f0feec79e",
        "colab": {
          "base_uri": "https://localhost:8080/",
          "height": 1000
        }
      },
      "source": [
        "days_in_office = np.arange(6)\n",
        "_ = plt.title('Estimations')\n",
        "_ = plt.plot(days_in_office, mean_sp_office, marker='.', color='green')\n",
        "_ = plt.xlabel('days at office')\n",
        "_ = plt.ylabel('total SP')\n",
        "plt.show()\n",
        "_ = plt.plot(days_in_office, mean_sick_office, marker='.', color='blue')\n",
        "_ = plt.xlabel('days at office')\n",
        "_ = plt.ylabel('sick team members')\n",
        "plt.show()\n",
        "_ = plt.plot(days_in_office, mean_no_sick_office, marker='.', color='blue')\n",
        "_ = plt.xlabel('days at office')\n",
        "_ = plt.ylabel('probability that no one is sick')\n",
        "plt.show()\n",
        "_ = plt.plot(days_in_office, mean_death_office, marker='.', color='red')\n",
        "_ = plt.xlabel('days at office')\n",
        "_ = plt.ylabel('dead team members')\n",
        "plt.show()"
      ],
      "execution_count": 18,
      "outputs": [
        {
          "output_type": "display_data",
          "data": {
            "image/png": "[encoded data removed]",
            "text/plain": [
              "<Figure size 432x288 with 1 Axes>"
            ]
          },
          "metadata": {
            "tags": [],
            "needs_background": "light"
          }
        },
        {
          "output_type": "display_data",
          "data": {
            "image/png": "[encoded data removed]",
            "text/plain": [
              "<Figure size 432x288 with 1 Axes>"
            ]
          },
          "metadata": {
            "tags": [],
            "needs_background": "light"
          }
        },
        {
          "output_type": "display_data",
          "data": {
            "image/png": "[encoded data removed]",
            "text/plain": [
              "<Figure size 432x288 with 1 Axes>"
            ]
          },
          "metadata": {
            "tags": [],
            "needs_background": "light"
          }
        },
        {
          "output_type": "display_data",
          "data": {
            "image/png": "[encoded data removed]",
            "text/plain": [
              "<Figure size 432x288 with 1 Axes>"
            ]
          },
          "metadata": {
            "tags": [],
            "needs_background": "light"
          }
        }
      ]
    },
    {
      "cell_type": "code",
      "metadata": {
        "id": "bMcopeN5Di4k",
        "colab_type": "code",
        "colab": {}
      },
      "source": [
        ""
      ],
      "execution_count": 0,
      "outputs": []
    }
  ]
}